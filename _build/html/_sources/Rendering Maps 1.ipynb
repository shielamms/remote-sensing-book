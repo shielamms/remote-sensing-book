{
 "cells": [
  {
   "cell_type": "markdown",
   "id": "105ad5c1",
   "metadata": {},
   "source": [
    "#  Method 1: Rendering a static map\n",
    "\n",
    "In this exercise, we’ll render a static map of the land surface temperature of the Philippines in 2021 using the MODIS Terra Land Surface Temperature dataset in Google Earth Engine.\n",
    "\n",
    "## Complete Code"
   ]
  },
  {
   "cell_type": "code",
   "execution_count": 3,
   "id": "588bc02d",
   "metadata": {
    "tags": [
     "hide_output"
    ]
   },
   "outputs": [
    {
     "data": {
      "text/html": [
       "<img src=\"https://earthengine.googleapis.com/v1alpha/projects/earthengine-legacy/thumbnails/6fcd75ec1ebb2ef25002ff586e3bc3ec-4df904495496ca8291d6326c954c1438:getPixels\"/>"
      ],
      "text/plain": [
       "<IPython.core.display.Image object>"
      ]
     },
     "execution_count": 3,
     "metadata": {},
     "output_type": "execute_result"
    }
   ],
   "source": [
    "import ee\n",
    "import geehydro\n",
    "from IPython.display import Image\n",
    "\n",
    "# ee.Authenticate() # remove comment on initial run\n",
    "ee.Initialize()\n",
    "\n",
    "poi = ee.Geometry.Point([122.1247, 13.2735]) # [long, lat]\n",
    "roi = poi.buffer(distance=9.2e5)\n",
    "\n",
    "dataset = ee.ImageCollection(\"MODIS/006/MOD11A1\")\n",
    "dataset = dataset.select('LST_Day_1km')\n",
    "date_filter = ee.Filter.date('2021-01-01', '2022-01-01')\n",
    "dataset = dataset.filter(date_filter)\n",
    "\n",
    "image = dataset.mean()\n",
    "image = image.multiply(0.02).add(-273.15)\n",
    "visualisation_params = {\n",
    "    'min': 8,\n",
    "    'max': 40,\n",
    "    'dimensions': 620,\n",
    "    'region': roi,\n",
    "    'palette': ['blue', 'yellow', 'red']\n",
    "}\n",
    "url = image.getThumbUrl(visualisation_params)\n",
    "Image(url=url)"
   ]
  },
  {
   "cell_type": "markdown",
   "id": "06917232",
   "metadata": {},
   "source": [
    "## Walkthrough\n",
    "\n",
    "First, let’s identify the point on earth that we want to visualise. I’ve chosen coordinates that center to the Philippines. We use `ee.Geometry.Point` to specify a point in the earth using a [longitude, latitude] pair."
   ]
  },
  {
   "cell_type": "code",
   "execution_count": 5,
   "id": "bf33f9e8",
   "metadata": {},
   "outputs": [],
   "source": [
    "poi = ee.Geometry.Point([122.1247, 13.2735]) "
   ]
  },
  {
   "cell_type": "markdown",
   "id": "bef94966",
   "metadata": {},
   "source": [
    "> **More info: Footnote 1.1.** Where to get location coordinates\n",
    "\n",
    "A point alone would not be able to show us an entire country. So, we’ll need to “zoom out” of that point using a buffer, which expands the geometry by the given distance in meters (by default). In our example, let’s zoom out to a radius of 9.2 x 10^5 meters (or 920 km) from the point of interest. You can adjust this buffer by as much as you like.\n"
   ]
  },
  {
   "cell_type": "code",
   "execution_count": 7,
   "id": "03a5248e",
   "metadata": {},
   "outputs": [],
   "source": [
    "roi = poi.buffer(distance=9.2e5)"
   ]
  },
  {
   "cell_type": "markdown",
   "id": "3d108bd1",
   "metadata": {},
   "source": [
    "> **More info: Footnote 1.2.** Geometry.Point buffer\n",
    "\n",
    "Now that we’ve established the region that we want to see, let’s grab some satellite data from the Google Earth Engine datasets. In this example, I’ll use a dataset from a satellite called MODIS, which provides an Image Collection of Global Land Surface Temperature.\n"
   ]
  },
  {
   "cell_type": "code",
   "execution_count": 8,
   "id": "690d497a",
   "metadata": {},
   "outputs": [],
   "source": [
    "dataset = ee.ImageCollection(\"MODIS/006/MOD11A1\")\n",
    "dataset = dataset.select('LST_Day_1km')"
   ]
  },
  {
   "cell_type": "markdown",
   "id": "2362fe57",
   "metadata": {},
   "source": [
    "> **More info: Footnote 1.3.** Information about the MODIS dataset\n",
    "\n",
    "> **More info: Footnote 1.4.** Google Earth Engine Images, Features, ImageCollections, and FeatureCollections"
   ]
  },
  {
   "cell_type": "markdown",
   "id": "1e340615",
   "metadata": {},
   "source": [
    "We can filter the ImageCollection by a range of dates. Let’s say we want to get the land surface temperature of the Philippines in the year 2021. We use the `ee.Filter` object to define a date filter, and then pass this to the `filter()` function of `dataset`.\n"
   ]
  },
  {
   "cell_type": "code",
   "execution_count": 9,
   "id": "dc1a4a02",
   "metadata": {},
   "outputs": [],
   "source": [
    "date_filter = ee.Filter.date('2021-01-01', '2022-01-01')\n",
    "dataset = dataset.filter(date_filter)"
   ]
  },
  {
   "cell_type": "markdown",
   "id": "da86c838",
   "metadata": {},
   "source": [
    "The first date parameter is the initial date of observation (inclusive), while the second date parameter is the day after the last day of observation. This filter gives us the whole range of dates in the year 2021.\n",
    "\n",
    "We’re still left with a bunch of images from the dataset. By default, these images are sorted by date, and they are stacked on top of each other, the latest image being at the top of the stack. This is called a mosaic. We want an image that could show us the average (or sometimes, the median) of all these images. This combination of images is called a composite, and this is one of the most useful ways we can visualise a collection of raster data over date ranges.\n",
    "\n",
    "In this example, we’ll create the composite image of the Philippines’ 2021 Land Surface Temperature by calculating the mean of the overlapping pixels of its images."
   ]
  },
  {
   "cell_type": "code",
   "execution_count": 10,
   "id": "31fa06ee",
   "metadata": {},
   "outputs": [],
   "source": [
    "image = dataset.mean()\n",
    "image = image.multiply(0.02).add(-273.15)"
   ]
  },
  {
   "cell_type": "markdown",
   "id": "4d6ffcae",
   "metadata": {},
   "source": [
    "The second line in the above code snippet looks like an arbitrary transformation, but fear not. There is an explanation to it by looking back at the [dataset description](https://developers.google.com/earth-engine/datasets/catalog/MODIS_006_MOD11A1#bands), a portion of which is below. Under the Scale column, you’ll find the value 0.02. This means that in order to render the `LST_Day_1km` band in a 256x256 pixel image, we need to scale it by 0.02 (thus, image.multiply(0.02)). Next, under the Units column, notice that the temperature data is provided in Kelvin, which is not normally used in everyday conversation. We can convert this to a more familiar measurement unit like Celsius or Fahrenheit. I’ve chosen to convert it to Celsius through add(-273.15)."
   ]
  },
  {
   "cell_type": "markdown",
   "id": "6748f7b6",
   "metadata": {},
   "source": [
    "```{figure} images/lstday1-screenshot.png\n",
    "---\n",
    "name: lstday1-screenshot\n",
    "---\n",
    "```"
   ]
  },
  {
   "cell_type": "markdown",
   "id": "616b5280",
   "metadata": {},
   "source": [
    "> More info: Footnote 1.5. How images are scaled in Google Earth Engine\n",
    "\n",
    "The last part of the code is setting up the visualisation parameters. These specify what ranges of the temperature data we want to visualise, what colours to use, and what the size of the final image will be."
   ]
  },
  {
   "cell_type": "code",
   "execution_count": 12,
   "id": "8f8c9298",
   "metadata": {
    "tags": [
     "hide_output"
    ]
   },
   "outputs": [
    {
     "data": {
      "text/html": [
       "<img src=\"https://earthengine.googleapis.com/v1alpha/projects/earthengine-legacy/thumbnails/6fcd75ec1ebb2ef25002ff586e3bc3ec-73e0c62b6293a6fafb07f56c94dc33e3:getPixels\"/>"
      ],
      "text/plain": [
       "<IPython.core.display.Image object>"
      ]
     },
     "execution_count": 12,
     "metadata": {},
     "output_type": "execute_result"
    }
   ],
   "source": [
    "visualisation_params = {\n",
    "    'min': 8,\n",
    "    'max': 40,\n",
    "    'dimensions': 620,\n",
    "    'region': roi,\n",
    "    'palette': ['blue', 'yellow', 'red']\n",
    "}\n",
    "\n",
    "url = image.getThumbUrl(visualisation_params)\n",
    "Image(url=url)"
   ]
  },
  {
   "cell_type": "markdown",
   "id": "79737226",
   "metadata": {},
   "source": [
    "Let’s put a bit more detail into the `visualisation_params` variable:\n",
    "\n",
    "- min: the minimum temperature value that we want to visualise in the region\n",
    "- max: the maximum temperature value that we want to visualise in the region\n",
    "- dimensions: the size (in pixels) of the output image\n",
    "- region: the region that we want to apply the visualisation to\n",
    "- palette: the colours that we want to use to indicate the different temperature levels\n",
    "\n",
    "So, given these definitions, setting `min: 8`, `max: 40` and `palette: [‘blue’, ‘yellow’, ‘red’]` roughly means that areas with temperatures from 8 to around 18 degrees on average will appear bluish, then as temperatures increase, they appear more yellow. When the temperatures are up to around 28 degrees, they start to appear orange (because of the mix of yellow and red), and then as temperatures increase even more until the max temperature of 40 degrees, the areas appear red. See the example of the northern part of the Philippines, wherein the mountainous areas have blue streaks as the mean temperatures there are cooler. The area encompassing Metropolitan Manila is completely red, indicating the hottest temperatures on average."
   ]
  },
  {
   "cell_type": "markdown",
   "id": "5ad05aaf",
   "metadata": {},
   "source": [
    "## Output"
   ]
  },
  {
   "cell_type": "code",
   "execution_count": 19,
   "id": "d153f8dc",
   "metadata": {
    "tags": [
     "hide_input"
    ]
   },
   "outputs": [
    {
     "data": {
      "text/html": [
       "<img src=\"https://earthengine.googleapis.com/v1alpha/projects/earthengine-legacy/thumbnails/6fcd75ec1ebb2ef25002ff586e3bc3ec-38154541c78de7710d461033e4db43d9:getPixels\"/>"
      ],
      "text/plain": [
       "<IPython.core.display.Image object>"
      ]
     },
     "execution_count": 19,
     "metadata": {},
     "output_type": "execute_result"
    }
   ],
   "source": [
    "import ee\n",
    "import geehydro\n",
    "from IPython.display import Image\n",
    "\n",
    "# ee.Authenticate() # remove comment on initial run\n",
    "ee.Initialize()\n",
    "\n",
    "poi = ee.Geometry.Point([122.1247, 13.2735]) # [long, lat]\n",
    "roi = poi.buffer(distance=9.2e5)\n",
    "\n",
    "dataset = ee.ImageCollection(\"MODIS/006/MOD11A1\")\n",
    "dataset = dataset.select('LST_Day_1km')\n",
    "date_filter = ee.Filter.date('2021-01-01', '2022-01-01')\n",
    "dataset = dataset.filter(date_filter)\n",
    "\n",
    "image = dataset.mean()\n",
    "image = image.multiply(0.02).add(-273.15)\n",
    "visualisation_params = {\n",
    "    'min': 8,\n",
    "    'max': 40,\n",
    "    'dimensions': 620,\n",
    "    'region': roi,\n",
    "    'palette': ['blue', 'yellow', 'red']\n",
    "}\n",
    "url = image.getThumbUrl(visualisation_params)\n",
    "Image(url=url)"
   ]
  },
  {
   "cell_type": "markdown",
   "id": "f9b10eff",
   "metadata": {},
   "source": [
    "Mean land surface temperature of the Philippines in 2021 showing temperature ranges from 8 degrees to 40 degrees Celsius. The bluish spots indicate the cooler temperatures in the mountainous regions; Yellow areas correspond to relatively mild temperate regions; Meanwhile, orange to red areas indicate the hottest regions throughout the year. The reddest area is, as expected, the densest city in the country — Metro Manila.\n",
    "\n"
   ]
  },
  {
   "cell_type": "code",
   "execution_count": null,
   "id": "23156d1c",
   "metadata": {},
   "outputs": [],
   "source": []
  }
 ],
 "metadata": {
  "kernelspec": {
   "display_name": "geospatial",
   "language": "python",
   "name": "geospatial"
  },
  "language_info": {
   "codemirror_mode": {
    "name": "ipython",
    "version": 3
   },
   "file_extension": ".py",
   "mimetype": "text/x-python",
   "name": "python",
   "nbconvert_exporter": "python",
   "pygments_lexer": "ipython3",
   "version": "3.8.8"
  }
 },
 "nbformat": 4,
 "nbformat_minor": 5
}
