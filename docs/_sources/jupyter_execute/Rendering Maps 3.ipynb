{
 "cells": [
  {
   "cell_type": "markdown",
   "id": "04bc48fd",
   "metadata": {},
   "source": [
    "# Summary and Footnotes\n",
    "\n",
    "In this chapter, we created the same map using two ways: by rendering a static image, and then by creating an interactive map. We used the Google Earth Engine API to get remotely sensed image data (particularly from the MODIS Terra satellite) on our region of interest so that we can analyse a feature of that region aggregated over a period of time (particularly average land surface temperature in 2021).\n",
    "\n",
    "\n",
    "## Footnotes\n",
    "\n",
    "### 1.1. Where to get location coordinates\n",
    "\n",
    "- You can use Google Maps to quickly obtain the coordinates of a certain location (at least that’s what I usually do). Wherever you are on Google Maps, the geographic coordinates of the place at the centre of the screen appears on the address bar. You can copy these coordinates, but remember which one is latitude and which one is longitude. In Google Maps, the latitude value comes first.\n",
    "    \n",
    "    \n",
    "### 1.2. Geometry.Point buffer\n",
    "\n",
    "- The Earth Engine API docs provides more details about buffer.\n",
    "  - https://developers.google.com/earth-engine/apidocs/ee-geometry-point-buffer\n",
    "\n",
    "\n",
    "### 1.3. Information about the MODIS dataset\n",
    "\n",
    "- MODIS (Moderate Resolution Imaging Spectroradiometer) is an instrument aboard NASA’s Terra and Aqua Satellites, which are low-earth orbiting satellites that measure properties of land and oceans. MODIS can measure atmospheric conditions as well as photosynthetic activity, making it useful for measurements of the impact of environmental changes to the earth’s climate.\n",
    "  - Further reading about MODIS:\n",
    "      - https://www.spiedigitallibrary.org/journals/journal-of-applied-remote-sensing/volume-12/issue-04/041501/Application-of-MODIS-land-surface-temperature-data--a-systematic/10.1117/1.JRS.12.041501.full?SSO=1\n",
    "      - https://terra.nasa.gov/about/terra-instruments/modis\n",
    "            \n",
    "            \n",
    "- One of the datasets collected from MODIS is the Daily Global Land Surface Temperature and Emissivity dataset. It has a 1200km spatial resolution, meaning that each grid in an image covers 1200km of the earth’s surface.\n",
    "  - Further reading about the dataset:\n",
    "      - https://developers.google.com/earth-engine/datasets/catalog/MODIS_006_MOD11A1#description\n",
    "\n",
    "\n",
    "### 1.4. Data from Google Earth Engine can be images, collections, or features.\n",
    "\n",
    "- An image is any raster data (gridded/pixelated data where each pixel refers to a: geographic location)\n",
    "- A feature is data about the attributes of a certain area (e.g. vegetation)\n",
    "- A collection is set of images or features\n",
    "\n",
    "\n",
    "### 1.5. How images are scaled in Google Earth Engine\n",
    "\n",
    "- Further reading: https://developers.google.com/earth-engine/guides/scale\n",
    "\n",
    "\n",
    "### 1.6. Supported map types\n",
    "\n",
    "- Further reading: https://developers.google.com/maps/documentation/javascript/maptypes"
   ]
  },
  {
   "cell_type": "code",
   "execution_count": null,
   "id": "1fbeffba",
   "metadata": {},
   "outputs": [],
   "source": []
  }
 ],
 "metadata": {
  "celltoolbar": "Tags",
  "kernelspec": {
   "display_name": "geospatial",
   "language": "python",
   "name": "geospatial"
  },
  "language_info": {
   "codemirror_mode": {
    "name": "ipython",
    "version": 3
   },
   "file_extension": ".py",
   "mimetype": "text/x-python",
   "name": "python",
   "nbconvert_exporter": "python",
   "pygments_lexer": "ipython3",
   "version": "3.8.8"
  }
 },
 "nbformat": 4,
 "nbformat_minor": 5
}